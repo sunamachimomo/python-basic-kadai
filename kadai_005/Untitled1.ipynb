{
  "nbformat": 4,
  "nbformat_minor": 0,
  "metadata": {
    "colab": {
      "provenance": []
    },
    "kernelspec": {
      "name": "python3",
      "display_name": "Python 3"
    },
    "language_info": {
      "name": "python"
    }
  },
  "cells": [
    {
      "cell_type": "code",
      "execution_count": 1,
      "metadata": {
        "colab": {
          "base_uri": "https://localhost:8080/"
        },
        "id": "g4Q6JQLj5ADh",
        "outputId": "dbe50e38-1f1d-48ca-9554-a44b5fb07d5d"
      },
      "outputs": [
        {
          "output_type": "stream",
          "name": "stdout",
          "text": [
            "75.0cm²\n"
          ]
        }
      ],
      "source": [
        " top_base = 10\n",
        " bottom_base = 20\n",
        " height = 5\n",
        " area = (top_base + bottom_base )*height / 2\n",
        " print(str(area) + \"cm²\")"
      ]
    }
  ]
}