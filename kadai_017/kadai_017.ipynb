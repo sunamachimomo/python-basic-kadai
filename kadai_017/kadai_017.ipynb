{
  "nbformat": 4,
  "nbformat_minor": 0,
  "metadata": {
    "colab": {
      "provenance": []
    },
    "kernelspec": {
      "name": "python3",
      "display_name": "Python 3"
    },
    "language_info": {
      "name": "python"
    }
  },
  "cells": [
    {
      "cell_type": "code",
      "execution_count": 6,
      "metadata": {
        "id": "qN5KwydEbRQ_",
        "colab": {
          "base_uri": "https://localhost:8080/"
        },
        "outputId": "afdb5de0-df8f-4422-90e9-a75d6294253b"
      },
      "outputs": [
        {
          "output_type": "stream",
          "name": "stdout",
          "text": [
            "侍花子 は大人です。\n",
            "侍太郎 は大人ではないです。\n",
            "侍次郎 は大人です。\n"
          ]
        }
      ],
      "source": [
        "class Human:\n",
        "  def __init__(self, name, age):\n",
        "    self.name = name\n",
        "    self.age = age\n",
        "  def check_adult(self):\n",
        "    if self.age >= 20:\n",
        "      print(f\"{self.name} は大人です。\")\n",
        "    else:\n",
        "      print(f\"{self.name} は大人ではないです。\")\n",
        "\n",
        "human1 = Human(\"侍花子\", 38)\n",
        "human2 = Human(\"侍太郎\", 19)\n",
        "human3 = Human(\"侍次郎\", 20)\n",
        "\n",
        "human_list = [human1, human2, human3]\n",
        "for human in human_list:\n",
        "   human.check_adult()\n"
      ]
    }
  ]
}