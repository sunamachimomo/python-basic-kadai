{
  "nbformat": 4,
  "nbformat_minor": 0,
  "metadata": {
    "colab": {
      "provenance": []
    },
    "kernelspec": {
      "name": "python3",
      "display_name": "Python 3"
    },
    "language_info": {
      "name": "python"
    }
  },
  "cells": [
    {
      "cell_type": "code",
      "execution_count": 195,
      "metadata": {
        "colab": {
          "base_uri": "https://localhost:8080/"
        },
        "id": "zgEsEke3DEod",
        "outputId": "0326d99e-b3e1-44c1-ea95-91a1a16d0e85"
      },
      "outputs": [
        {
          "output_type": "stream",
          "name": "stdout",
          "text": [
            "15\n",
            "FizzBuzz\n"
          ]
        }
      ],
      "source": [
        "import random\n",
        "var = random.randint(1, 100)\n",
        "print(var)\n",
        "if var % 15 == 0:\n",
        "  print(\"FizzBuzz\")\n",
        "elif var % 3 == 0:\n",
        "  print(\"Fizz\")\n",
        "elif var % 5 == 0:\n",
        "  print(\"Buzz\")\n",
        "else:\n",
        "  print(var)"
      ]
    },
    {
      "cell_type": "code",
      "source": [
        "import random\n",
        "var = random.randint(1, 30)\n",
        "print(var)\n",
        "if var % 3 == 0 and var % 5 == 0:\n",
        "  print(\"FizzBuzz\")\n",
        "elif var % 3 == 0:\n",
        "  print(\"Fizz\")\n",
        "elif var % 5 == 0:\n",
        "  print(\"Buzz\")\n",
        "else:\n",
        "  print(var)"
      ],
      "metadata": {
        "colab": {
          "base_uri": "https://localhost:8080/"
        },
        "id": "33nVQD-VIFbN",
        "outputId": "0a65fd53-9eb1-46e8-eb1f-c2a83ef6ad6c"
      },
      "execution_count": 206,
      "outputs": [
        {
          "output_type": "stream",
          "name": "stdout",
          "text": [
            "30\n",
            "FizzBuzz\n"
          ]
        }
      ]
    }
  ]
}